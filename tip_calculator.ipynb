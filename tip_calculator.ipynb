{
 "cells": [
  {
   "cell_type": "code",
   "execution_count": 1,
   "id": "00ab22c7-4330-43e4-b559-d3b20d1b4336",
   "metadata": {},
   "outputs": [
    {
     "name": "stdout",
     "output_type": "stream",
     "text": [
      "Welcome to the tip calculator.\n"
     ]
    },
    {
     "name": "stdin",
     "output_type": "stream",
     "text": [
      "What was the total bill?$ 258\n",
      "What percentage tip would you like to give? 10,12 or 15? 10\n",
      "How many people to split the bill? 4\n"
     ]
    },
    {
     "name": "stdout",
     "output_type": "stream",
     "text": [
      "Each person should pay :$72.24\n"
     ]
    }
   ],
   "source": [
    "print(\"Welcome to the tip calculator.\")\n",
    "bill = float(input(\"What was the total bill?$\"))\n",
    "tip = input(\"What percentage tip would you like to give? 10,12 or 15?\")\n",
    "people = int(input(\"How many people to split the bill?\"))\n",
    "pay = bill/people\n",
    "if tip == 12:\n",
    "    bill_with_tip = bill + (bill*12/100)\n",
    "elif tip == 10:\n",
    "    bill_with_tip = bill + (bill*10/100)\n",
    "else:\n",
    "    bill_with_tip = bill + (bill*12/100)\n",
    "pay_per_person = bill_with_tip/people\n",
    "pay = round(pay_per_person,2)   \n",
    "\n",
    "\n",
    "print(f\"Each person should pay :${pay}\")"
   ]
  },
  {
   "cell_type": "code",
   "execution_count": null,
   "id": "aa93ecee-7cb8-440a-8ebf-229eeef6f60c",
   "metadata": {},
   "outputs": [],
   "source": []
  }
 ],
 "metadata": {
  "kernelspec": {
   "display_name": "Python 3 (ipykernel)",
   "language": "python",
   "name": "python3"
  },
  "language_info": {
   "codemirror_mode": {
    "name": "ipython",
    "version": 3
   },
   "file_extension": ".py",
   "mimetype": "text/x-python",
   "name": "python",
   "nbconvert_exporter": "python",
   "pygments_lexer": "ipython3",
   "version": "3.12.2"
  }
 },
 "nbformat": 4,
 "nbformat_minor": 5
}
